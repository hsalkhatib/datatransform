{
 "cells": [
  {
   "cell_type": "markdown",
   "metadata": {},
   "source": [
    "##  Pandas Data Transformation \n",
    "#### Collapse multiple columns into a single column\n",
    "\n",
    "This code reads a CSV file and collapses all the columns "
   ]
  },
  {
   "cell_type": "code",
   "execution_count": 9,
   "metadata": {
    "collapsed": false
   },
   "outputs": [
    {
     "data": {
      "text/html": [
       "<div>\n",
       "<table border=\"1\" class=\"dataframe\">\n",
       "  <thead>\n",
       "    <tr style=\"text-align: right;\">\n",
       "      <th></th>\n",
       "      <th>Inspection ID</th>\n",
       "      <th>Violation ID1</th>\n",
       "      <th>Violation ID2</th>\n",
       "      <th>Violation ID3</th>\n",
       "      <th>Violation ID4</th>\n",
       "      <th>Violation ID5</th>\n",
       "      <th>Violation ID6</th>\n",
       "      <th>Violation ID7</th>\n",
       "      <th>Violation ID8</th>\n",
       "      <th>Violation ID9</th>\n",
       "      <th>Violation ID10</th>\n",
       "      <th>Violation ID11</th>\n",
       "      <th>Violation ID11.1</th>\n",
       "      <th>Violation ID12</th>\n",
       "      <th>Violation ID13</th>\n",
       "      <th>Violation ID14</th>\n",
       "      <th>Violation ID15</th>\n",
       "      <th>Violation ID16</th>\n",
       "      <th>Violation ID17</th>\n",
       "      <th>Violation ID18</th>\n",
       "    </tr>\n",
       "  </thead>\n",
       "  <tbody>\n",
       "    <tr>\n",
       "      <th>0</th>\n",
       "      <td>1970968</td>\n",
       "      <td></td>\n",
       "      <td></td>\n",
       "      <td></td>\n",
       "      <td></td>\n",
       "      <td></td>\n",
       "      <td></td>\n",
       "      <td></td>\n",
       "      <td></td>\n",
       "      <td></td>\n",
       "      <td></td>\n",
       "      <td></td>\n",
       "      <td></td>\n",
       "      <td></td>\n",
       "      <td></td>\n",
       "      <td></td>\n",
       "      <td></td>\n",
       "      <td></td>\n",
       "      <td></td>\n",
       "      <td></td>\n",
       "    </tr>\n",
       "    <tr>\n",
       "      <th>1</th>\n",
       "      <td>1970956</td>\n",
       "      <td>18</td>\n",
       "      <td>18</td>\n",
       "      <td></td>\n",
       "      <td></td>\n",
       "      <td></td>\n",
       "      <td></td>\n",
       "      <td></td>\n",
       "      <td></td>\n",
       "      <td></td>\n",
       "      <td></td>\n",
       "      <td></td>\n",
       "      <td></td>\n",
       "      <td></td>\n",
       "      <td></td>\n",
       "      <td></td>\n",
       "      <td></td>\n",
       "      <td></td>\n",
       "      <td></td>\n",
       "      <td></td>\n",
       "    </tr>\n",
       "    <tr>\n",
       "      <th>2</th>\n",
       "      <td>1970947</td>\n",
       "      <td></td>\n",
       "      <td></td>\n",
       "      <td></td>\n",
       "      <td></td>\n",
       "      <td></td>\n",
       "      <td></td>\n",
       "      <td></td>\n",
       "      <td></td>\n",
       "      <td></td>\n",
       "      <td></td>\n",
       "      <td></td>\n",
       "      <td></td>\n",
       "      <td></td>\n",
       "      <td></td>\n",
       "      <td></td>\n",
       "      <td></td>\n",
       "      <td></td>\n",
       "      <td></td>\n",
       "      <td></td>\n",
       "    </tr>\n",
       "    <tr>\n",
       "      <th>3</th>\n",
       "      <td>1970940</td>\n",
       "      <td></td>\n",
       "      <td></td>\n",
       "      <td></td>\n",
       "      <td></td>\n",
       "      <td></td>\n",
       "      <td></td>\n",
       "      <td></td>\n",
       "      <td></td>\n",
       "      <td></td>\n",
       "      <td></td>\n",
       "      <td></td>\n",
       "      <td></td>\n",
       "      <td></td>\n",
       "      <td></td>\n",
       "      <td></td>\n",
       "      <td></td>\n",
       "      <td></td>\n",
       "      <td></td>\n",
       "      <td></td>\n",
       "    </tr>\n",
       "    <tr>\n",
       "      <th>4</th>\n",
       "      <td>1970935</td>\n",
       "      <td>34</td>\n",
       "      <td>34</td>\n",
       "      <td>33</td>\n",
       "      <td></td>\n",
       "      <td></td>\n",
       "      <td></td>\n",
       "      <td></td>\n",
       "      <td></td>\n",
       "      <td></td>\n",
       "      <td></td>\n",
       "      <td></td>\n",
       "      <td></td>\n",
       "      <td></td>\n",
       "      <td></td>\n",
       "      <td></td>\n",
       "      <td></td>\n",
       "      <td></td>\n",
       "      <td></td>\n",
       "      <td></td>\n",
       "    </tr>\n",
       "  </tbody>\n",
       "</table>\n",
       "</div>"
      ],
      "text/plain": [
       "  Inspection ID Violation ID1 Violation ID2 Violation ID3 Violation ID4  \\\n",
       "0       1970968                                                           \n",
       "1       1970956            18            18                               \n",
       "2       1970947                                                           \n",
       "3       1970940                                                           \n",
       "4       1970935            34            34            33                 \n",
       "\n",
       "  Violation ID5 Violation ID6 Violation ID7 Violation ID8 Violation ID9  \\\n",
       "0                                                                         \n",
       "1                                                                         \n",
       "2                                                                         \n",
       "3                                                                         \n",
       "4                                                                         \n",
       "\n",
       "  Violation ID10 Violation ID11 Violation ID11.1 Violation ID12  \\\n",
       "0                                                                 \n",
       "1                                                                 \n",
       "2                                                                 \n",
       "3                                                                 \n",
       "4                                                                 \n",
       "\n",
       "  Violation ID13 Violation ID14 Violation ID15 Violation ID16 Violation ID17  \\\n",
       "0                                                                              \n",
       "1                                                                              \n",
       "2                                                                              \n",
       "3                                                                              \n",
       "4                                                                              \n",
       "\n",
       "  Violation ID18  \n",
       "0                 \n",
       "1                 \n",
       "2                 \n",
       "3                 \n",
       "4                 "
      ]
     },
     "execution_count": 9,
     "metadata": {},
     "output_type": "execute_result"
    }
   ],
   "source": [
    "import pandas as pd\n",
    "import numpy as np\n",
    "df = pd.read_csv('inspections.csv', na_filter=False,low_memory=False)\n",
    "df.head()"
   ]
  },
  {
   "cell_type": "markdown",
   "metadata": {},
   "source": [
    "We want to collapse all the ViolationID values columns into a single 'Count' column as follows\n",
    "\n",
    "<table>\n",
    "    <th>InspectionID</th><th>Count</th><th>ViolationID</th>\n",
    "    <tr><td>1970956</td><td>18</td><td>ViolationID1</td></tr> \n",
    "    <tr><td>1970935</td><td>34</td><td>ViolationID1</td></tr> \n",
    "    <tr><td>1970933</td><td>37</td><td>ViolationID1</td></tr> \n",
    "    <tr><td>1970930</td><td>38</td><td>ViolationID1</td></tr> \n",
    "    <tr><td>1970925</td><td>34</td><td>ViolationID1</td></tr> \n",
    "</table>"
   ]
  },
  {
   "cell_type": "code",
   "execution_count": 10,
   "metadata": {
    "collapsed": false
   },
   "outputs": [
    {
     "name": "stderr",
     "output_type": "stream",
     "text": [
      "C:\\Anaconda3\\lib\\site-packages\\ipykernel\\__main__.py:8: SettingWithCopyWarning: \n",
      "A value is trying to be set on a copy of a slice from a DataFrame.\n",
      "Try using .loc[row_indexer,col_indexer] = value instead\n",
      "\n",
      "See the caveats in the documentation: http://pandas.pydata.org/pandas-docs/stable/indexing.html#indexing-view-versus-copy\n"
     ]
    },
    {
     "name": "stdout",
     "output_type": "stream",
     "text": [
      "  Inspection ID Count    ViolationID\n",
      "1       1970956    18  Violation ID1\n",
      "4       1970935    34  Violation ID1\n",
      "5       1970933    37  Violation ID1\n",
      "6       1970930    38  Violation ID1\n",
      "8       1970925    34  Violation ID1\n",
      "Generating output CSV ..\n",
      "File generated\n"
     ]
    }
   ],
   "source": [
    "cols=['Inspection ID', 'Count', 'ViolationID']\n",
    "df1 = pd.DataFrame(columns=cols)\n",
    "it = iter(df.columns)\n",
    "next(it, None)  # skip first column\n",
    "for col in it:\n",
    "    df2 = df[['Inspection ID',col]]\n",
    "    m = [col]*len(df2.index)\n",
    "    df2[\"ViolationID\"] = m\n",
    "    df2.columns = cols\n",
    "    #print (df2.head())\n",
    "    df1 = df1.append(df2, ignore_index=True)\n",
    "df1 = df1[df1['Count'] != '']\n",
    "#df1 = df1.sort_values(by='Inspection ID') \n",
    "print (df1.head())\n",
    "print (\"Generating output CSV ..\")\n",
    "df1.to_csv(\"transformed_inspections.csv\", sep=',')\n",
    "print (\"File generated\")"
   ]
  },
  {
   "cell_type": "code",
   "execution_count": 4,
   "metadata": {
    "collapsed": false
   },
   "outputs": [
    {
     "data": {
      "text/plain": [
       "'\\ni = 0\\ndf1 = pd.DataFrame(columns=[\\'InspectionID\\', \\'ViolationID\\', \\'Count\\'])\\nfor index, row in df.iterrows():\\n    it = iter(df.columns)\\n    next(it, None)  # skip first item.\\n    for col in it:\\n        if (row[col] != \\'\\'):\\n            i = i + 1\\n            df1.loc[i] = [str(row[\\'Inspection ID\\']), col, row[col]]\\n        else:\\n            break\\ndf1.head()\\ndf1.to_csv(\"transformed_inspections.csv\", sep=\\',\\')\\n'"
      ]
     },
     "execution_count": 4,
     "metadata": {},
     "output_type": "execute_result"
    }
   ],
   "source": [
    "#Interating over all rows (as below) is slow and should be avoided\n",
    "'''\n",
    "i = 0\n",
    "df1 = pd.DataFrame(columns=['InspectionID', 'ViolationID', 'Count'])\n",
    "for index, row in df.iterrows():\n",
    "    it = iter(df.columns)\n",
    "    next(it, None)  # skip first item.\n",
    "    for col in it:\n",
    "        if (row[col] != ''):\n",
    "            i = i + 1\n",
    "            df1.loc[i] = [str(row['Inspection ID']), col, row[col]]\n",
    "        else:\n",
    "            break\n",
    "df1.head()\n",
    "df1.to_csv(\"transformed_inspections.csv\", sep=',')\n",
    "'''"
   ]
  },
  {
   "cell_type": "code",
   "execution_count": null,
   "metadata": {
    "collapsed": true
   },
   "outputs": [],
   "source": []
  }
 ],
 "metadata": {
  "anaconda-cloud": {},
  "kernelspec": {
   "display_name": "Python [default]",
   "language": "python",
   "name": "python3"
  },
  "language_info": {
   "codemirror_mode": {
    "name": "ipython",
    "version": 3
   },
   "file_extension": ".py",
   "mimetype": "text/x-python",
   "name": "python",
   "nbconvert_exporter": "python",
   "pygments_lexer": "ipython3",
   "version": "3.5.2"
  }
 },
 "nbformat": 4,
 "nbformat_minor": 1
}
